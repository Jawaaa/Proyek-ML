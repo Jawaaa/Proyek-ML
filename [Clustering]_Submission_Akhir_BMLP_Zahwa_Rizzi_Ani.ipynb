{
  "nbformat": 4,
  "nbformat_minor": 0,
  "metadata": {
    "colab": {
      "provenance": [],
      "include_colab_link": true
    },
    "kernelspec": {
      "name": "python3",
      "display_name": "Python 3"
    },
    "language_info": {
      "name": "python"
    }
  },
  "cells": [
    {
      "cell_type": "markdown",
      "metadata": {
        "id": "view-in-github",
        "colab_type": "text"
      },
      "source": [
        "<a href=\"https://colab.research.google.com/github/Jawaaa/Proyek-ML/blob/main/%5BClustering%5D_Submission_Akhir_BMLP_Zahwa_Rizzi_Ani.ipynb\" target=\"_parent\"><img src=\"https://colab.research.google.com/assets/colab-badge.svg\" alt=\"Open In Colab\"/></a>"
      ]
    },
    {
      "cell_type": "markdown",
      "source": [
        "# **1. Perkenalan Dataset**\n"
      ],
      "metadata": {
        "id": "kZLRMFl0JyyQ"
      }
    },
    {
      "cell_type": "markdown",
      "source": [
        "Tahap pertama, Anda harus mencari dan menggunakan dataset **tanpa label** dengan ketentuan sebagai berikut:\n",
        "\n",
        "1. **Sumber Dataset**:  \n",
        "   Dataset dapat diperoleh dari berbagai sumber, seperti public repositories (*Kaggle*, *UCI ML Repository*, *Open Data*) atau data primer yang Anda kumpulkan sendiri.\n",
        "   \n",
        "2. **Ketentuan Dataset**:\n",
        "   - **Tanpa label**: Dataset tidak boleh memiliki label atau kelas.\n",
        "   - **Jumlah Baris**: Minimal 1000 baris untuk memastikan dataset cukup besar untuk analisis yang bermakna.\n",
        "   - **Tipe Data**: Harus mengandung data **kategorikal** dan **numerikal**.\n",
        "     - *Kategorikal*: Misalnya jenis kelamin, kategori produk.\n",
        "     - *Numerikal*: Misalnya usia, pendapatan, harga.\n",
        "\n",
        "3. **Pembatasan**:  \n",
        "   Dataset yang sudah digunakan dalam latihan clustering (seperti customer segmentation) tidak boleh digunakan."
      ],
      "metadata": {
        "id": "hssSDn-5n3HR"
      }
    },
    {
      "cell_type": "markdown",
      "source": [
        "# **2. Import Library**"
      ],
      "metadata": {
        "id": "fKADPWcFKlj3"
      }
    },
    {
      "cell_type": "markdown",
      "source": [
        "Pada tahap ini, Anda perlu mengimpor beberapa pustaka (library) Python yang dibutuhkan untuk analisis data dan pembangunan model machine learning."
      ],
      "metadata": {
        "id": "LgA3ERnVn84N"
      }
    },
    {
      "cell_type": "code",
      "source": [
        "import numpy as np\n",
        "import pandas as pd\n",
        "from sklearn.preprocessing import StandardScaler\n",
        "from sklearn.cluster import KMeans\n",
        "from sklearn.metrics import silhouette_score\n",
        "import matplotlib.pyplot as plt\n",
        "import seaborn as sns"
      ],
      "metadata": {
        "id": "BlmvjLY9M4Yj"
      },
      "execution_count": 1,
      "outputs": []
    },
    {
      "cell_type": "markdown",
      "source": [
        "# **3. Memuat Dataset**"
      ],
      "metadata": {
        "id": "f3YIEnAFKrKL"
      }
    },
    {
      "cell_type": "markdown",
      "source": [
        "Pada tahap ini, Anda perlu memuat dataset ke dalam notebook. Jika dataset dalam format CSV, Anda bisa menggunakan pustaka pandas untuk membacanya. Pastikan untuk mengecek beberapa baris awal dataset untuk memahami strukturnya dan memastikan data telah dimuat dengan benar.\n",
        "\n",
        "Jika dataset berada di Google Drive, pastikan Anda menghubungkan Google Drive ke Colab terlebih dahulu. Setelah dataset berhasil dimuat, langkah berikutnya adalah memeriksa kesesuaian data dan siap untuk dianalisis lebih lanjut."
      ],
      "metadata": {
        "id": "Ey3ItwTen_7E"
      }
    },
    {
      "cell_type": "code",
      "source": [
        "# Load dataset\n",
        "from google.colab import drive\n",
        "drive.mount('/content/drive')\n",
        "dataset_path = '/content/drive/MyDrive/ML/data.csv'\n",
        "df = pd.read_csv(dataset_path)\n",
        "\n",
        "# Check the first few rows of the dataset\n",
        "print(df.head())\n",
        "\n",
        "# Check the shape of the dataset\n",
        "print(df.shape)\n",
        "\n",
        "# Check the data types\n",
        "print(df.dtypes)"
      ],
      "metadata": {
        "id": "GHCGNTyrM5fS",
        "colab": {
          "base_uri": "https://localhost:8080/"
        },
        "outputId": "f7165b82-308c-4ea0-e595-bf262fbb6357"
      },
      "execution_count": 20,
      "outputs": [
        {
          "output_type": "stream",
          "name": "stdout",
          "text": [
            "Drive already mounted at /content/drive; to attempt to forcibly remount, call drive.mount(\"/content/drive\", force_remount=True).\n",
            "  InvoiceNo StockCode                          Description  Quantity  \\\n",
            "0    536365    85123A   WHITE HANGING HEART T-LIGHT HOLDER       6.0   \n",
            "1    536365     71053                  WHITE METAL LANTERN       6.0   \n",
            "2    536365    84406B       CREAM CUPID HEARTS COAT HANGER       8.0   \n",
            "3    536365    84029G  KNITTED UNION FLAG HOT WATER BOTTLE       6.0   \n",
            "4    536365    84029E       RED WOOLLY HOTTIE WHITE HEART.       6.0   \n",
            "\n",
            "      InvoiceDate  UnitPrice  CustomerID         Country  \n",
            "0  12/1/2010 8:26       2.55     17850.0  United Kingdom  \n",
            "1  12/1/2010 8:26       3.39     17850.0  United Kingdom  \n",
            "2  12/1/2010 8:26       2.75     17850.0  United Kingdom  \n",
            "3  12/1/2010 8:26       3.39     17850.0  United Kingdom  \n",
            "4  12/1/2010 8:26       3.39     17850.0  United Kingdom  \n",
            "(541909, 8)\n",
            "InvoiceNo       object\n",
            "StockCode       object\n",
            "Description     object\n",
            "Quantity       float64\n",
            "InvoiceDate     object\n",
            "UnitPrice      float64\n",
            "CustomerID     float64\n",
            "Country         object\n",
            "dtype: object\n"
          ]
        },
        {
          "output_type": "stream",
          "name": "stderr",
          "text": [
            "<ipython-input-20-0338c3f31fab>:5: DtypeWarning: Columns (0,1,2,4,7) have mixed types. Specify dtype option on import or set low_memory=False.\n",
            "  df = pd.read_csv(dataset_path)\n"
          ]
        }
      ]
    },
    {
      "cell_type": "markdown",
      "source": [
        "# **4. Exploratory Data Analysis (EDA)**\n",
        "\n",
        "Pada tahap ini, Anda akan melakukan **Exploratory Data Analysis (EDA)** untuk memahami karakteristik dataset. EDA bertujuan untuk:\n",
        "\n",
        "1. **Memahami Struktur Data**\n",
        "   - Tinjau jumlah baris dan kolom dalam dataset.  \n",
        "   - Tinjau jenis data di setiap kolom (numerikal atau kategorikal).\n",
        "\n",
        "2. **Menangani Data yang Hilang**  \n",
        "   - Identifikasi dan analisis data yang hilang (*missing values*). Tentukan langkah-langkah yang diperlukan untuk menangani data yang hilang, seperti pengisian atau penghapusan data tersebut.\n",
        "\n",
        "3. **Analisis Distribusi dan Korelasi**  \n",
        "   - Analisis distribusi variabel numerik dengan statistik deskriptif dan visualisasi seperti histogram atau boxplot.  \n",
        "   - Periksa hubungan antara variabel menggunakan matriks korelasi atau scatter plot.\n",
        "\n",
        "4. **Visualisasi Data**  \n",
        "   - Buat visualisasi dasar seperti grafik distribusi dan diagram batang untuk variabel kategorikal.  \n",
        "   - Gunakan heatmap atau pairplot untuk menganalisis korelasi antar variabel.\n",
        "\n",
        "Tujuan dari EDA adalah untuk memperoleh wawasan awal yang mendalam mengenai data dan menentukan langkah selanjutnya dalam analisis atau pemodelan."
      ],
      "metadata": {
        "id": "bgZkbJLpK9UR"
      }
    },
    {
      "cell_type": "code",
      "source": [
        "# Check for missing values\n",
        "print(df.isnull().sum())\n",
        "\n",
        "# Summary statistics for numerical columns\n",
        "print(df.describe())\n",
        "\n",
        "# Distribution of numerical columns\n",
        "df.hist(figsize=(10, 8))\n",
        "plt.show()\n",
        "\n",
        "# Correlation matrix\n",
        "#corr_matrix = df.corr()\n",
        "#sns.heatmap(corr_matrix, annot=True, cmap='coolwarm')\n",
        "#plt.show()"
      ],
      "metadata": {
        "id": "dKeejtvxM6X1",
        "colab": {
          "base_uri": "https://localhost:8080/",
          "height": 1000
        },
        "outputId": "56ce3b16-a691-416b-c6ed-e3ab6b74e5a0"
      },
      "execution_count": 11,
      "outputs": [
        {
          "output_type": "stream",
          "name": "stdout",
          "text": [
            "InvoiceNo      536909\n",
            "StockCode      536909\n",
            "Description    536921\n",
            "Quantity       536909\n",
            "InvoiceDate    536909\n",
            "UnitPrice      536909\n",
            "CustomerID     538114\n",
            "Country        536909\n",
            "dtype: int64\n",
            "          Quantity    UnitPrice    CustomerID\n",
            "count  5000.000000  5000.000000   3795.000000\n",
            "mean      9.185800     3.792314  15906.281950\n",
            "std     144.940788    13.211720   1732.068892\n",
            "min   -9360.000000     0.000000  12431.000000\n",
            "25%       1.000000     1.250000  14606.000000\n",
            "50%       3.000000     2.510000  15862.000000\n",
            "75%      10.000000     4.210000  17841.000000\n",
            "max    2880.000000   607.490000  18239.000000\n"
          ]
        },
        {
          "output_type": "display_data",
          "data": {
            "text/plain": [
              "<Figure size 1000x800 with 4 Axes>"
            ],
            "image/png": "[encoded data removed]"
          },
          "metadata": {}
        }
      ]
    },
    {
      "cell_type": "markdown",
      "source": [
        "# **5. Data Preprocessing**"
      ],
      "metadata": {
        "id": "cpgHfgnSK3ip"
      }
    },
    {
      "cell_type": "markdown",
      "source": [
        "Pada tahap ini, data preprocessing adalah langkah penting untuk memastikan kualitas data sebelum digunakan dalam model machine learning. Data mentah sering kali mengandung nilai kosong, duplikasi, atau rentang nilai yang tidak konsisten, yang dapat memengaruhi kinerja model. Oleh karena itu, proses ini bertujuan untuk membersihkan dan mempersiapkan data agar analisis berjalan optimal.\n",
        "\n",
        "Berikut adalah tahapan-tahapan yang bisa dilakukan, tetapi **tidak terbatas** pada:\n",
        "1. Menghapus atau Menangani Data Kosong (Missing Values)\n",
        "2. Menghapus Data Duplikat\n",
        "3. Normalisasi atau Standarisasi Fitur\n",
        "4. Deteksi dan Penanganan Outlier\n",
        "5. Encoding Data Kategorikal\n",
        "6. Binning (Pengelompokan Data)\n",
        "\n",
        "Cukup sesuaikan dengan karakteristik data yang kamu gunakan yah."
      ],
      "metadata": {
        "id": "COf8KUPXLg5r"
      }
    },
    {
      "cell_type": "code",
      "source": [
        "# Handle missing values (if any)\n",
        "df = df.dropna()\n",
        "\n",
        "# Remove duplicates\n",
        "df = df.drop_duplicates()\n",
        "\n",
        "# Select relevant columns for clustering\n",
        "# For example, let's use 'Quantity' and 'UnitPrice'\n",
        "X = df[['Quantity', 'UnitPrice']]\n",
        "\n",
        "# Standardize the features\n",
        "scaler = StandardScaler()\n",
        "X_scaled = scaler.fit_transform(X)"
      ],
      "metadata": {
        "id": "WzBGjcbQM7N8"
      },
      "execution_count": 12,
      "outputs": []
    },
    {
      "cell_type": "markdown",
      "source": [
        "# **6. Pembangunan Model Clustering**"
      ],
      "metadata": {
        "id": "BR73dCnrLEiq"
      }
    },
    {
      "cell_type": "markdown",
      "source": [
        "## **a. Pembangunan Model Clustering**"
      ],
      "metadata": {
        "id": "Fkd_QHXWMBDr"
      }
    },
    {
      "cell_type": "markdown",
      "source": [
        "Pada tahap ini, Anda membangun model clustering dengan memilih algoritma yang sesuai untuk mengelompokkan data berdasarkan kesamaan. Berikut adalah **rekomendasi** tahapannya.\n",
        "1. Pilih algoritma clustering yang sesuai.\n",
        "2. Latih model dengan data menggunakan algoritma tersebut."
      ],
      "metadata": {
        "id": "Kn6Y2qbqMVLP"
      }
    },
    {
      "cell_type": "code",
      "source": [
        "# Choose the number of clusters using the Elbow Method\n",
        "inertia = []\n",
        "for k in range(1, 11):\n",
        "    kmeans = KMeans(n_clusters=k, random_state=42)\n",
        "    kmeans.fit(X_scaled)\n",
        "    inertia.append(kmeans.inertia_)\n",
        "\n",
        "# Plot the Elbow Method\n",
        "plt.figure(figsize=(8, 5))\n",
        "plt.plot(range(1, 11), inertia, marker='o')\n",
        "plt.title('Elbow Method')\n",
        "plt.xlabel('Number of clusters')\n",
        "plt.ylabel('Inertia')\n",
        "plt.show()"
      ],
      "metadata": {
        "id": "hgYvwWOzM93L",
        "colab": {
          "base_uri": "https://localhost:8080/",
          "height": 487
        },
        "outputId": "f39d8324-1dea-4c9a-e38f-cfdd980463b1"
      },
      "execution_count": 13,
      "outputs": [
        {
          "output_type": "display_data",
          "data": {
            "text/plain": [
              "<Figure size 800x500 with 1 Axes>"
            ],
            "image/png": "[encoded data removed]"
          },
          "metadata": {}
        }
      ]
    },
    {
      "cell_type": "markdown",
      "source": [
        "## **b. Evaluasi Model Clustering**"
      ],
      "metadata": {
        "id": "zsGVwzPKMEvn"
      }
    },
    {
      "cell_type": "markdown",
      "source": [
        "Untuk menentukan jumlah cluster yang optimal dalam model clustering, Anda dapat menggunakan metode Elbow atau Silhouette Score.\n",
        "\n",
        "Metode ini membantu kita menemukan jumlah cluster yang memberikan pemisahan terbaik antar kelompok data, sehingga model yang dibangun dapat lebih efektif. Berikut adalah **rekomendasi** tahapannya.\n",
        "1. Gunakan Silhouette Score dan Elbow Method untuk menentukan jumlah cluster optimal.\n",
        "2. Hitung Silhouette Score sebagai ukuran kualitas cluster."
      ],
      "metadata": {
        "id": "qk63ew39MeBf"
      }
    },
    {
      "cell_type": "code",
      "source": [
        "# Choose the optimal number of clusters based on the Elbow Method\n",
        "optimal_k = 3  # Example, choose based on the plot\n",
        "\n",
        "# Train the KMeans model\n",
        "kmeans = KMeans(n_clusters=optimal_k, random_state=42)\n",
        "kmeans.fit(X_scaled)\n",
        "\n",
        "# Add cluster labels to the original dataframe\n",
        "df['Cluster'] = kmeans.labels_\n",
        "\n",
        "# Calculate Silhouette Score\n",
        "silhouette_avg = silhouette_score(X_scaled, kmeans.labels_)\n",
        "print(f'Silhouette Score: {silhouette_avg}')"
      ],
      "metadata": {
        "id": "yrPkK_bvM-Ya",
        "colab": {
          "base_uri": "https://localhost:8080/"
        },
        "outputId": "0fd78288-81cd-4f48-c3f3-a4fab3fb98ff"
      },
      "execution_count": 14,
      "outputs": [
        {
          "output_type": "stream",
          "name": "stdout",
          "text": [
            "Silhouette Score: 0.9844900171258107\n"
          ]
        }
      ]
    },
    {
      "cell_type": "markdown",
      "source": [
        "## **c. Feature Selection (Opsional)**"
      ],
      "metadata": {
        "id": "vWZp5vKNQddd"
      }
    },
    {
      "cell_type": "markdown",
      "source": [
        "Silakan lakukan feature selection jika Anda membutuhkan optimasi model clustering. Jika Anda menerapkan proses ini, silakan lakukan pemodelan dan evaluasi kembali menggunakan kolom-kolom hasil feature selection. Terakhir, bandingkan hasil performa model sebelum dan sesudah menerapkan feature selection."
      ],
      "metadata": {
        "id": "QIHKgE07Q4c0"
      }
    },
    {
      "cell_type": "code",
      "source": [
        "# If needed, perform feature selection and repeat the clustering process\n",
        "# Example: Select only 'Quantity' for clustering\n",
        "X_selected = df[['Quantity']]\n",
        "X_selected_scaled = scaler.fit_transform(X_selected)\n",
        "\n",
        "# Train the KMeans model with selected features\n",
        "kmeans_selected = KMeans(n_clusters=optimal_k, random_state=42)\n",
        "kmeans_selected.fit(X_selected_scaled)\n",
        "\n",
        "# Add cluster labels to the original dataframe\n",
        "df['Cluster_Selected'] = kmeans_selected.labels_\n",
        "\n",
        "# Calculate Silhouette Score for selected features\n",
        "silhouette_avg_selected = silhouette_score(X_selected_scaled, kmeans_selected.labels_)\n",
        "print(f'Silhouette Score with Selected Features: {silhouette_avg_selected}')"
      ],
      "metadata": {
        "id": "Vbstha0PRUpI",
        "colab": {
          "base_uri": "https://localhost:8080/"
        },
        "outputId": "cebf4740-e52c-4448-9ad2-b99611c19266"
      },
      "execution_count": 15,
      "outputs": [
        {
          "output_type": "stream",
          "name": "stdout",
          "text": [
            "Silhouette Score with Selected Features: 0.9903231248770762\n"
          ]
        }
      ]
    },
    {
      "cell_type": "markdown",
      "source": [
        "## **d. Visualisasi Hasil Clustering**"
      ],
      "metadata": {
        "id": "nn01TKkLLRiF"
      }
    },
    {
      "cell_type": "markdown",
      "source": [
        "Setelah model clustering dilatih dan jumlah cluster optimal ditentukan, langkah selanjutnya adalah menampilkan hasil clustering melalui visualisasi.\n",
        "\n",
        "Berikut adalah **rekomendasi** tahapannya.\n",
        "1. Tampilkan hasil clustering dalam bentuk visualisasi, seperti grafik scatter plot atau 2D PCA projection."
      ],
      "metadata": {
        "id": "gaz0fnhhMkRI"
      }
    },
    {
      "cell_type": "code",
      "source": [
        "# Visualize the clusters\n",
        "plt.figure(figsize=(10, 6))\n",
        "sns.scatterplot(x='Quantity', y='UnitPrice', hue='Cluster', data=df, palette='viridis')\n",
        "plt.title('Clusters of Customers based on Quantity and UnitPrice')\n",
        "plt.show()"
      ],
      "metadata": {
        "id": "lfOjVvfYM-4v",
        "colab": {
          "base_uri": "https://localhost:8080/",
          "height": 564
        },
        "outputId": "25cf7a94-e50e-4a07-d938-07359bd14b0a"
      },
      "execution_count": 16,
      "outputs": [
        {
          "output_type": "display_data",
          "data": {
            "text/plain": [
              "<Figure size 1000x600 with 1 Axes>"
            ],
            "image/png": "[encoded data removed]"
          },
          "metadata": {}
        }
      ]
    },
    {
      "cell_type": "markdown",
      "source": [
        "## **e. Analisis dan Interpretasi Hasil Cluster**"
      ],
      "metadata": {
        "id": "X4eydPWJLH4I"
      }
    },
    {
      "cell_type": "markdown",
      "source": [
        "Setelah melakukan clustering, langkah selanjutnya adalah menganalisis karakteristik dari masing-masing cluster berdasarkan fitur yang tersedia.\n",
        "\n",
        "Berikut adalah **rekomendasi** tahapannya.\n",
        "1. Analisis karakteristik tiap cluster berdasarkan fitur yang tersedia (misalnya, distribusi nilai dalam cluster).\n",
        "2. Berikan interpretasi: Apakah hasil clustering sesuai dengan ekspektasi dan logika bisnis? Apakah ada pola tertentu yang bisa dimanfaatkan?"
      ],
      "metadata": {
        "id": "SENfLnfRMpC-"
      }
    },
    {
      "cell_type": "code",
      "source": [
        "# Analyze the characteristics of each cluster\n",
        "numeric_cols = df.select_dtypes(include=np.number).columns\n",
        "cluster_analysis = df.groupby('Cluster')[numeric_cols].mean()\n",
        "print(cluster_analysis)"
      ],
      "metadata": {
        "id": "MFq0x-OzM_Wt",
        "colab": {
          "base_uri": "https://localhost:8080/"
        },
        "outputId": "f83d180f-a632-4840-e743-da140bb8d3a7"
      },
      "execution_count": 17,
      "outputs": [
        {
          "output_type": "stream",
          "name": "stdout",
          "text": [
            "            Quantity   UnitPrice    CustomerID  Cluster  Cluster_Selected\n",
            "Cluster                                                                  \n",
            "0          14.053057    3.079997  15884.893886      0.0          0.001616\n",
            "1       -9360.000000    0.030000  15838.000000      1.0          1.000000\n",
            "2           1.000000  230.000000  13425.000000      2.0          0.000000\n"
          ]
        }
      ]
    },
    {
      "cell_type": "markdown",
      "source": [
        "Tulis hasil interpretasinya di sini.\n",
        "\n",
        "**Cluster 0**\n",
        "*   **Rata-rata Quantity:** 14.05\n",
        "*   **Rata-rata Unit Price:** $3.08\n",
        "*   **Rata-rata Customer ID:** 15,884.89\n",
        "*   **Karakteristik:** Pelanggan reguler dengan jumlah pembelian normal dan harga wajar.\n",
        "*   **Interpretasi:** Pelanggan dalam cluster ini memiliki pola pembelian yang stabil dengan jumlah barang yang cukup banyak dan harga produk yang relatif murah. Mereka merupakan pelanggan yang sering melakukan transaksi dengan jumlah yang cukup konsisten.\n",
        "\n",
        "**Cluster 1**\n",
        "*   **Rata-rata Quantity:** -9,360\n",
        "*   **Rata-rata Unit Price:** $0.03\n",
        "*   **Rata-rata Customer ID:** 15,838\n",
        "*   **Karakteristik:** Pelanggan yang lebih sering melakukan pengembalian barang atau transaksi tidak valid.\n",
        "*   **Interpretasi:** Cluster ini menunjukkan adanya transaksi negatif dalam jumlah besar, yang mengindikasikan pengembalian produk dalam skala besar. Harga unit yang sangat rendah juga menunjukkan bahwa transaksi ini kemungkinan besar merupakan koreksi atau refund terhadap barang yang sebelumnya telah dibeli.\n",
        "\n",
        "**Cluster 2**\n",
        "*   **Rata-rata Quantity:** 1.00\n",
        "*   **Rata-rata Unit Price:** $230.00\n",
        "*   **Rata-rata Customer ID:** 13,425\n",
        "*   **Karakteristik:** Pelanggan yang membeli produk mahal dalam jumlah kecil.\n",
        "*   **Interpretasi:** Pelanggan dalam cluster ini cenderung membeli produk dengan harga yang sangat tinggi tetapi dalam jumlah yang sangat sedikit. Hal ini menunjukkan bahwa mereka lebih selektif dalam memilih produk dan kemungkinan hanya membeli barang premium atau eksklusif."
      ],
      "metadata": {
        "id": "JfgVMEBDS3KG"
      }
    },
    {
      "cell_type": "markdown",
      "source": [
        "# **7. Mengeksport Data**\n",
        "\n",
        "Simpan hasilnya ke dalam file CSV."
      ],
      "metadata": {
        "id": "jaYP1fx5VgWO"
      }
    },
    {
      "cell_type": "markdown",
      "source": [],
      "metadata": {
        "id": "hOXB_hnRwocp"
      }
    },
    {
      "cell_type": "code",
      "source": [
        "from google.colab import files\n",
        "\n",
        "# Simpan data ke CSV\n",
        "df.to_csv('clustered_data.csv', index=False)\n",
        "\n",
        "# Unduh file\n",
        "files.download('clustered_data.csv')\n"
      ],
      "metadata": {
        "id": "fkbg_o80aRSH",
        "colab": {
          "base_uri": "https://localhost:8080/",
          "height": 17
        },
        "outputId": "ba95c2db-0660-476c-d1cd-5bfd29169afb"
      },
      "execution_count": 13,
      "outputs": [
        {
          "output_type": "display_data",
          "data": {
            "text/plain": [
              "<IPython.core.display.Javascript object>"
            ],
            "application/javascript": [
              "\n",
              "    async function download(id, filename, size) {\n",
              "      if (!google.colab.kernel.accessAllowed) {\n",
              "        return;\n",
              "      }\n",
              "      const div = document.createElement('div');\n",
              "      const label = document.createElement('label');\n",
              "      label.textContent = `Downloading \"${filename}\": `;\n",
              "      div.appendChild(label);\n",
              "      const progress = document.createElement('progress');\n",
              "      progress.max = size;\n",
              "      div.appendChild(progress);\n",
              "      document.body.appendChild(div);\n",
              "\n",
              "      const buffers = [];\n",
              "      let downloaded = 0;\n",
              "\n",
              "      const channel = await google.colab.kernel.comms.open(id);\n",
              "      // Send a message to notify the kernel that we're ready.\n",
              "      channel.send({})\n",
              "\n",
              "      for await (const message of channel.messages) {\n",
              "        // Send a message to notify the kernel that we're ready.\n",
              "        channel.send({})\n",
              "        if (message.buffers) {\n",
              "          for (const buffer of message.buffers) {\n",
              "            buffers.push(buffer);\n",
              "            downloaded += buffer.byteLength;\n",
              "            progress.value = downloaded;\n",
              "          }\n",
              "        }\n",
              "      }\n",
              "      const blob = new Blob(buffers, {type: 'application/binary'});\n",
              "      const a = document.createElement('a');\n",
              "      a.href = window.URL.createObjectURL(blob);\n",
              "      a.download = filename;\n",
              "      div.appendChild(a);\n",
              "      a.click();\n",
              "      div.remove();\n",
              "    }\n",
              "  "
            ]
          },
          "metadata": {}
        },
        {
          "output_type": "display_data",
          "data": {
            "text/plain": [
              "<IPython.core.display.Javascript object>"
            ],
            "application/javascript": [
              "download(\"download_5a7fd0be-ce05-4b2c-a1d6-f26452f32b53\", \"clustered_data.csv\", 345663)"
            ]
          },
          "metadata": {}
        }
      ]
    }
  ]
}